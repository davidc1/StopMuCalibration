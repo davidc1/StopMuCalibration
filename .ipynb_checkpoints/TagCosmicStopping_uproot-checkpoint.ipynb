{
 "cells": [
  {
   "cell_type": "code",
   "execution_count": 1,
   "metadata": {},
   "outputs": [],
   "source": [
    "%matplotlib inline\n",
    "#%pylab\n",
    "import matplotlib\n",
    "import matplotlib.pyplot as plt\n",
    "import matplotlib.colors as mpc\n",
    "import matplotlib.dates as dts\n",
    "import numpy as np\n",
    "import pandas as pd\n",
    "import itertools\n",
    "import os\n",
    "import datetime\n",
    "# from root_numpy import root2array, root2rec, tree2rec, array2root\n",
    "from scipy.optimize import curve_fit\n",
    "from scipy.misc import factorial\n",
    "plt.rcParams.update({'font.size': 16})"
   ]
  },
  {
   "cell_type": "code",
   "execution_count": 1,
   "metadata": {},
   "outputs": [
    {
     "name": "stdout",
     "output_type": "stream",
     "text": [
      "Welcome to JupyROOT 6.14/00\n"
     ]
    }
   ],
   "source": [
    "from glob import glob\n",
    "from root_pandas import read_root"
   ]
  },
  {
   "cell_type": "code",
   "execution_count": null,
   "metadata": {},
   "outputs": [],
   "source": [
    "import ROOT\n",
    "\n",
    "#f = ROOT.TFile('mcc83_cosmic.root')\n",
    "f = ROOT.TFile('/home/david/data/StopMuCalibration/stm_ana.root')\n",
    "f.cd('stopmu')\n",
    "print f\n",
    "df = pd.DataFrame(tree2rec(f.Get('stopmu/reco_tree')))\n",
    "print df.shape\n",
    "df = df.query('_trk_start_z > 500. and _trk_end_z > 500.')\n",
    "print df.shape"
   ]
  },
  {
   "cell_type": "code",
   "execution_count": 2,
   "metadata": {},
   "outputs": [],
   "source": [
    "file_dir = \"/home/nick/Desktop/MicroBooNE/StopMuCalibration/v07_07_03/stopmu_tag2/1102/prodgenie_bnb_nu_cosmic_uboone_mcc9.0_beta2_oct_reco_2d_wc_reco2/v1/*\"\n",
    "file_list = glob(file_dir+\"/stopmu_ana.root\")\n",
    "# print(file_list)"
   ]
  },
  {
   "cell_type": "code",
   "execution_count": null,
   "metadata": {},
   "outputs": [],
   "source": [
    "columns = ['_run', '_sub', '_evt', '_trk_len', '_trk_start_x', '_trk_start_y',\n",
    "       '_trk_start_z', '_trk_end_x', '_trk_end_y', '_trk_end_z',\n",
    "       '_yz_true_reco_distance', '_yz_trackid', '_matchtrackid', '_matchscore',\n",
    "       '_pitch_u', '_pitch_v', '_pitch_y', '_dqdx_y', '_dqdx_tm_y', '_rr_y',\n",
    "       '_delta_t_closest_flash']\n",
    "df = read_root(file_list, key=\"stopmu/reco_tree\")\n",
    "print(df.shape)"
   ]
  },
  {
   "cell_type": "code",
   "execution_count": 4,
   "metadata": {},
   "outputs": [
    {
     "data": {
      "text/plain": [
       "Index(['_run', '_sub', '_evt', '_trk_len', '_trk_start_x', '_trk_start_y',\n",
       "       '_trk_start_z', '_trk_end_x', '_trk_end_y', '_trk_end_z',\n",
       "       '_yz_true_reco_distance', '_yz_trackid', '_matchtrackid', '_matchscore',\n",
       "       '_pitch_u', '_pitch_v', '_pitch_y', '_dqdx_u', '_dqdx_v', '_dqdx_y',\n",
       "       '_dqdx_tm_u', '_dqdx_tm_v', '_dqdx_tm_y', '_rr_u', '_rr_v', '_rr_y',\n",
       "       '_delta_t_closest_flash'],\n",
       "      dtype='object')"
      ]
     },
     "execution_count": 4,
     "metadata": {},
     "output_type": "execute_result"
    }
   ],
   "source": [
    "df.columns"
   ]
  },
  {
   "cell_type": "code",
   "execution_count": null,
   "metadata": {},
   "outputs": [],
   "source": [
    "df.dropna(inplace=True)"
   ]
  },
  {
   "cell_type": "code",
   "execution_count": null,
   "metadata": {},
   "outputs": [],
   "source": [
    "fig = plt.figure(figsize=(6,6))\n",
    "BINS = np.linspace(0,70,201)\n",
    "plt.hist(df['_yz_true_reco_distance'].values,bins=BINS,histtype='step',color='b',lw=2)\n",
    "plt.grid()\n",
    "plt.yscale('log')\n",
    "plt.title('Track end - Stop $\\mu$ Distance',fontsize=20,fontweight='bold')\n",
    "plt.xlabel('YZ distance to true $\\mu$ stop [cm]',fontsize=20,fontweight='bold')\n",
    "plt.ylabel('Number of Entries',fontsize=20,fontweight='bold')\n",
    "#plt.ylim([20,4000])\n",
    "plt.show()"
   ]
  },
  {
   "cell_type": "code",
   "execution_count": null,
   "metadata": {},
   "outputs": [],
   "source": [
    "def GetMIPFit(x):\n",
    "    \n",
    "    dqdx_v = x['_dqdx_tm_y']\n",
    "    rr_v   = x['_rr_y']\n",
    "    \n",
    "    rr_max = x['_trk_len']\n",
    "    \n",
    "    if (rr_max < 150.): return -1,-1\n",
    "    \n",
    "    rr_MIP_idx_v = np.where((rr_v > 100) & (rr_v < 150))[0]\n",
    "    if (len(rr_MIP_idx_v) == 0): return -1,-1\n",
    "    dqdx_MIP_v = [dqdx_v[i] for i in rr_MIP_idx_v]\n",
    "    avg = np.average(dqdx_MIP_v)\n",
    "    rms = np.std(dqdx_MIP_v)\n",
    "    return avg,rms\n",
    "\n",
    "def BraggArea(x,rmin,rmax):\n",
    "\n",
    "    dqdx_v = x['_dqdx_tm_y']\n",
    "    rr_v   = x['_rr_y']\n",
    "    mip    = x['mip']\n",
    "    \n",
    "        \n",
    "    if (mip < 0): return -1\n",
    "    \n",
    "    rr_BRAGG_idx_v = np.where((rr_v < rmax) & (rr_v > rmin))[0]\n",
    "    area = 0\n",
    "    for i in rr_BRAGG_idx_v:\n",
    "        if (i < len(rr_v)-1):\n",
    "            ampl = (dqdx_v[i]-mip)\n",
    "            area += ampl * np.abs(rr_v[i]-rr_v[i+1])\n",
    "            #print '+= ampl = %.02f \\t\\t dr = %.02f'%(ampl,np.abs(rr_v[i]-rr_v[i+1]))\n",
    "    return area/mip\n",
    "\n",
    "def dQfit(x,a,b,c):\n",
    "    return a*x**2 + b*x + c\n",
    "\n",
    "def MIPfit(x):\n",
    "    \n",
    "    dqdx_v = x['_dqdx_tm_y']\n",
    "    rr_v   = x['_rr_y']\n",
    "    mip    = x['mip']\n",
    "    \n",
    "    dqdx_v = dqdx_v.astype(float)\n",
    "    rr_v   = rr_v.astype(float)\n",
    "    \n",
    "    if (len(rr_v) < 50):\n",
    "        return -1\n",
    "    \n",
    "    rr_v_fit = []\n",
    "    dqdx_trunc_v_fit = []\n",
    "    for i,r in enumerate(rr_v):\n",
    "        if (r < 50):\n",
    "            rr_v_fit.append(r)\n",
    "            dqdx_trunc_v_fit.append(dqdx_v[i]/mip)\n",
    "    \n",
    "    try:\n",
    "        popt,popv = curve_fit(dQfit,rr_v_fit,dqdx_trunc_v_fit)\n",
    "        return popt[2]\n",
    "    except:\n",
    "        return -1"
   ]
  },
  {
   "cell_type": "code",
   "execution_count": null,
   "metadata": {},
   "outputs": [],
   "source": [
    "df['mip']    = df.apply(lambda x : GetMIPFit(x)[0], axis=1)\n",
    "df['miperr'] = df.apply(lambda x : GetMIPFit(x)[1], axis=1)"
   ]
  },
  {
   "cell_type": "code",
   "execution_count": null,
   "metadata": {},
   "outputs": [],
   "source": [
    "df['mipfit'] = df.apply(lambda x : MIPfit(x), axis=1)"
   ]
  },
  {
   "cell_type": "code",
   "execution_count": null,
   "metadata": {},
   "outputs": [],
   "source": [
    "df['BA_000_050'] = df.apply(lambda x : BraggArea(x,0,50), axis=1)\n",
    "df['BA_050_100'] = df.apply(lambda x : BraggArea(x,50,100), axis=1)"
   ]
  },
  {
   "cell_type": "code",
   "execution_count": null,
   "metadata": {},
   "outputs": [],
   "source": [
    "df = df.query('BA_000_050 != -1 and BA_050_100 != -1')"
   ]
  },
  {
   "cell_type": "code",
   "execution_count": null,
   "metadata": {},
   "outputs": [],
   "source": [
    "dfstop = df.query('0 < _yz_true_reco_distance < 3') # cut that defines what is a true stopping muon"
   ]
  },
  {
   "cell_type": "code",
   "execution_count": null,
   "metadata": {},
   "outputs": [],
   "source": [
    "df.dropna(inplace=True) \n",
    "dfstop.dropna(inplace=True) "
   ]
  },
  {
   "cell_type": "code",
   "execution_count": null,
   "metadata": {},
   "outputs": [],
   "source": [
    "fig = plt.figure(figsize=(6,6))\n",
    "plt.hist(df['mip'].values    ,bins=np.linspace(100,450,100),\\\n",
    "         histtype='step',lw=2,color='b',normed=True,label='all $\\mu$')\n",
    "plt.hist(dfstop['mip'].values,bins=np.linspace(100,450,100),\\\n",
    "         histtype='step',lw=2,color='r',normed=True,label='stop $\\mu$')\n",
    "plt.xlabel('Average dQ/dx in RR [100,150] cm',fontsize=20,fontweight='bold')\n",
    "plt.axvline(200,color='k',linestyle='--',lw=3)\n",
    "plt.axvline(350,color='k',linestyle='--',lw=3)\n",
    "plt.grid()\n",
    "plt.legend(loc=1)\n",
    "plt.show()\n",
    "\n",
    "fig = plt.figure(figsize=(6,6))\n",
    "plt.hist(df['mipfit'].values    ,bins=np.linspace(0,3,100),\\\n",
    "         histtype='step',lw=2,color='b',normed=True,label='all $\\mu$')\n",
    "plt.hist(dfstop['mipfit'].values,bins=np.linspace(0,3,100),\\\n",
    "         histtype='step',lw=2,color='r',normed=True,label='stop $\\mu$')\n",
    "plt.xlabel('Quadratic Fit Intercept @ RR = 0',fontsize=20,fontweight='bold')\n",
    "plt.title('Y0',fontsize=20,fontweight='bold')\n",
    "plt.axvline(1.5,color='k',linestyle='--',lw=3)\n",
    "plt.grid()\n",
    "plt.legend(loc=1)\n",
    "plt.show()\n",
    "\n",
    "mipeA = df['miperr'].values / df['mip'].values\n",
    "mipeS = dfstop['miperr'].values / dfstop['mip'].values\n",
    "\n",
    "fig = plt.figure(figsize=(6,6))\n",
    "plt.hist(mipeA ,bins=np.linspace(0,1,100),\\\n",
    "         histtype='step',lw=2,color='b',normed=True,label='all $\\mu$')\n",
    "plt.hist(mipeS,bins=np.linspace(0,1,100),\\\n",
    "         histtype='step',lw=2,color='r',normed=True,label='stop $\\mu$')\n",
    "plt.xlabel('MIP $\\sigma/\\mu$ in RR [100,150]',fontsize=20,fontweight='bold')\n",
    "\n",
    "plt.axvline(0.1,color='k',linestyle='--',lw=3)\n",
    "plt.xlim([0,0.3])\n",
    "plt.grid()\n",
    "plt.legend(loc=1)\n",
    "plt.show()"
   ]
  },
  {
   "cell_type": "code",
   "execution_count": null,
   "metadata": {},
   "outputs": [],
   "source": [
    "fig = plt.figure(figsize=(6,6))\n",
    "plt.hist(df['BA_000_050'].values    ,bins=np.linspace(-30,30,100)\\\n",
    "         ,histtype='step',lw=2,color='b',normed=True,label='all $\\mu$')\n",
    "plt.hist(dfstop['BA_000_050'].values,bins=np.linspace(-30,30,100),\\\n",
    "         histtype='step',lw=2,color='r',normed=True,label='stop $\\mu$')\n",
    "plt.xlabel('Bragg Area in [0,50] cm range',fontsize=20,fontweight='bold')\n",
    "plt.title('BA0',fontsize=20,fontweight='bold')\n",
    "plt.axvline(10,color='k',linestyle='--',lw=3)\n",
    "plt.axvline(20,color='k',linestyle='--',lw=3)\n",
    "plt.grid()\n",
    "plt.legend(loc=2)\n",
    "plt.show()\n",
    "\n",
    "fig = plt.figure(figsize=(6,6))\n",
    "plt.hist(df['BA_050_100'].values    ,bins=np.linspace(-30,30,100),\\\n",
    "         histtype='step',lw=2,color='b',normed=True,label='all $\\mu$')\n",
    "plt.hist(dfstop['BA_050_100'].values,bins=np.linspace(-30,30,100),\\\n",
    "         histtype='step',lw=2,color='r',normed=True,label='stop $\\mu$')\n",
    "plt.xlabel('Bragg Area in [50,100] cm range',fontsize=20,fontweight='bold')\n",
    "plt.title('BA1',fontsize=20,fontweight='bold')\n",
    "plt.grid()\n",
    "plt.legend(loc=2)\n",
    "#plt.ylim([0,300])\n",
    "plt.show()"
   ]
  },
  {
   "cell_type": "code",
   "execution_count": null,
   "metadata": {},
   "outputs": [],
   "source": [
    "TMAX = 50\n",
    "\n",
    "fig = plt.figure(figsize=(6,6))\n",
    "plt.hist(df['_delta_t_closest_flash'].values    ,bins=np.linspace(0,TMAX,100),\\\n",
    "         histtype='step',lw=2,color='b',density=True,label='all $\\mu$')\n",
    "plt.hist(dfstop['_delta_t_closest_flash'].values,bins=np.linspace(0,TMAX,100),\\\n",
    "         histtype='step',lw=2,color='r',density=True,label='stop $\\mu$')\n",
    "plt.xlabel('$\\Delta$t with closest flash [$\\mu$s]',fontsize=20,fontweight='bold')\n",
    "plt.grid()\n",
    "plt.legend(loc=1)\n",
    "plt.axvline(14,color='k',linestyle='--',lw=3)\n",
    "plt.gca().axes.get_yaxis().set_ticks([])\n",
    "plt.show()\n",
    "\n",
    "fig = plt.figure(figsize=(6,6))\n",
    "plt.hist(df['_trk_end_y'].values    ,bins=np.linspace(-120,-50,100),\\\n",
    "         histtype='step',lw=2,color='b',density=True,label='all $\\mu$')\n",
    "plt.hist(dfstop['_trk_end_y'].values,bins=np.linspace(-120,-50,100),\\\n",
    "         histtype='step',lw=2,color='r',density=True,label='stop $\\mu$')\n",
    "plt.xlabel('End Y Coordinate [cm]',fontsize=20,fontweight='bold')\n",
    "plt.grid()\n",
    "plt.legend(loc=1)\n",
    "plt.axvline(-98,color='k',linestyle='--',lw=3)\n",
    "plt.gca().axes.get_yaxis().set_ticks([])\n",
    "plt.show()\n",
    "\n",
    "fig = plt.figure(figsize=(6,6))\n",
    "plt.hist(df['_trk_end_x'].values    ,bins=np.linspace(-60,340,100),\\\n",
    "         histtype='step',lw=2,color='b',density=True,label='all $\\mu$')\n",
    "plt.hist(dfstop['_trk_end_x'].values,bins=np.linspace(-60,340,100),\\\n",
    "         histtype='step',lw=2,color='r',density=True,label='stop $\\mu$')\n",
    "plt.xlabel('End X Coordinate [cm]',fontsize=20,fontweight='bold')\n",
    "plt.grid()\n",
    "plt.legend(loc=9)\n",
    "plt.axvline(-40,color='k',linestyle='--',lw=3)\n",
    "plt.axvline(290,color='k',linestyle='--',lw=3)\n",
    "plt.gca().axes.get_yaxis().set_ticks([])\n",
    "plt.show()\n",
    "\n",
    "fig = plt.figure(figsize=(6,6))\n",
    "plt.hist(df['_trk_end_z'].values    ,bins=np.linspace(650,790,100),\\\n",
    "         histtype='step',lw=2,color='b',density=True,label='all $\\mu$')\n",
    "plt.hist(dfstop['_trk_end_z'].values,bins=np.linspace(650,790,50),\\\n",
    "         histtype='step',lw=2,color='r',density=True,label='stop $\\mu$')\n",
    "plt.xlabel('End Z Coordinate [cm]',fontsize=20,fontweight='bold')\n",
    "plt.grid()\n",
    "plt.legend(loc=3)\n",
    "plt.axvline(697,color='k',linestyle='--',lw=3)\n",
    "plt.axvline(740,color='k',linestyle='--',lw=3)\n",
    "plt.gca().axes.get_yaxis().set_ticks([])\n",
    "plt.show()"
   ]
  },
  {
   "cell_type": "code",
   "execution_count": null,
   "metadata": {},
   "outputs": [],
   "source": [
    "print(df.shape[0])\n",
    "\n",
    "# study impact of cuts\n",
    "cut_v = ['BA_000_050 != -1 and BA_050_100 != -1',\\\n",
    "         '_trk_end_y > -98',\\\n",
    "         #'_px < 0',\\\n",
    "         '_trk_end_z < 697 or _trk_end_z > 742',\\\n",
    "         '_trk_end_x > -40 and _trk_end_x < 290',\\\n",
    "         '_trk_end_z > 10 and _trk_end_z < 1020.',\\\n",
    "         '_delta_t_closest_flash > 14',\\\n",
    "         #'mip > 200 and mip < 350',\\\n",
    "         'BA_000_050 > 10 and BA_000_050 < 20',\\\n",
    "         #'BA_050_100 < 10',\\\n",
    "         #'miperr/mip < 0.1',\\\n",
    "         'mipfit > 1.5 and mipfit < 2.0',\\\n",
    "         ]\n",
    "\n",
    "dfcuts = df\n",
    "dfgood = df.query('_yz_true_reco_distance < 5.')\n",
    "\n",
    "for cut in cut_v:\n",
    "    dfcuts = dfcuts.query(cut)\n",
    "    allmu  = dfcuts.shape[0]\n",
    "    dfgood = dfgood.query(cut)\n",
    "    stpmu  = dfgood.shape[0]\n",
    "    eff    = stpmu/19000.\n",
    "    print('cut %40s : all = %05i ... stop = %05i ... purity = %.03f ... eff = %.02f'%\n",
    "    (cut,allmu,stpmu,100*float(stpmu)/float(allmu),eff))\n",
    "    \n",
    "    \n",
    "stop_res_v = np.linspace(0,15,16)\n",
    "purity_v = []\n",
    "purity_e = []\n",
    "\n",
    "for res in stop_res_v:\n",
    "    \n",
    "    dfgood = df.query('_yz_true_reco_distance < %f'%res)\n",
    "\n",
    "    for cut in cut_v:\n",
    "        dfcuts = dfcuts.query(cut)\n",
    "        dfgood = dfgood.query(cut)\n",
    "        \n",
    "    allmu = dfcuts.shape[0]\n",
    "    stopmu = dfgood.shape[0]\n",
    "    \n",
    "    p = float(stopmu)/float(allmu)\n",
    "    error = np.sqrt(p*(1-p)/float(allmu))\n",
    "    \n",
    "    purity_v.append(p)\n",
    "    purity_e.append(error)"
   ]
  },
  {
   "cell_type": "code",
   "execution_count": null,
   "metadata": {},
   "outputs": [],
   "source": [
    "fig = plt.figure(figsize=(6,6))\n",
    "plt.errorbar(stop_res_v,purity_v,yerr=purity_e,fmt='bo',markersize=10,lw=3)\n",
    "plt.grid()\n",
    "plt.ylim([0.,1.0])\n",
    "plt.xlabel('Stopping Point Accuracy [cm]',fontsize=20,fontweight='bold')\n",
    "plt.ylabel('purity [frac]',fontsize=20,fontweight='bold')\n",
    "plt.title('Stop Muon Selection',fontsize=20,fontweight='bold')\n",
    "plt.show()"
   ]
  },
  {
   "cell_type": "code",
   "execution_count": null,
   "metadata": {},
   "outputs": [],
   "source": [
    "df.columns"
   ]
  },
  {
   "cell_type": "code",
   "execution_count": null,
   "metadata": {
    "scrolled": true
   },
   "outputs": [],
   "source": [
    "rr_cumulative_v   = []\n",
    "dqdx_cumulative_v = []\n",
    "dqdx_trunc_cumulative_v = []\n",
    "pitch_cumulative_v = []\n",
    "pz_cumulative_v = []\n",
    "py_cumulative_v = []\n",
    "px_cumulative_v = []\n",
    "\n",
    "poly_0 = []\n",
    "dmin_v = []\n",
    "\n",
    "for idx, entry in dfcuts.iterrows():\n",
    "    \n",
    "    rr_v   = np.array(entry['_rr_y'])\n",
    "    dqdx_v = np.array(entry['_dqdx_y'])\n",
    "    dqdx_trunc_v = np.array(entry['_dqdx_tm_y'])\n",
    "#     pz = entry['_pz']\n",
    "#     py = entry['_py']\n",
    "#     px = entry['_px']\n",
    "#     pitch = 0.3/np.abs(pz)\n",
    "    pitch = entry['_pitch_y']\n",
    "    \n",
    "    \n",
    "    for dqdx in dqdx_v:\n",
    "        dqdx_cumulative_v.append(dqdx)\n",
    "    for dqdx in dqdx_trunc_v:\n",
    "        dqdx_trunc_cumulative_v.append(dqdx)\n",
    "    for rr in rr_v:\n",
    "        rr_cumulative_v.append(rr)\n",
    "        pitch_cumulative_v.append(pitch)\n",
    "#         px_cumulative_v.append(px)\n",
    "#         py_cumulative_v.append(py)\n",
    "#         pz_cumulative_v.append(pz)"
   ]
  },
  {
   "cell_type": "code",
   "execution_count": null,
   "metadata": {},
   "outputs": [],
   "source": [
    "fig = plt.figure(figsize=(12,6))\n",
    "BINS = ( np.linspace(0,200,20), np.linspace(150,500,20) )\n",
    "plt.hist2d(rr_cumulative_v,dqdx_cumulative_v,bins=BINS)\n",
    "plt.xlabel('Residual Range [cm]',fontsize=20,fontweight='bold')\n",
    "plt.ylabel('dQ/dx [ADC / cm]',fontsize=20,fontweight='bold')\n",
    "plt.title('dQ/dx vs. RR for selected tracks [cosmic MC sample]',fontweight='bold',fontsize=18)\n",
    "plt.grid()\n",
    "plt.show()"
   ]
  },
  {
   "cell_type": "code",
   "execution_count": null,
   "metadata": {},
   "outputs": [],
   "source": [
    "# save to picke file:\n",
    "fout = open('stopmu_mcc83.csv','wb')\n",
    "\n",
    "for i,rr in enumerate(rr_cumulative_v):\n",
    "    px = px_cumulative_v[i]\n",
    "    py = py_cumulative_v[i]\n",
    "    pz = pz_cumulative_v[i]\n",
    "    fout.write('%.02f \\t %.02f \\t %.02f \\t %.02f \\t %.02f \\t %.02f \\n'%\\\n",
    "               (rr,dqdx_cumulative_v[i],pitch_cumulative_v[i],px,py,pz))\n",
    "    \n",
    "fout.close()"
   ]
  },
  {
   "cell_type": "code",
   "execution_count": null,
   "metadata": {},
   "outputs": [],
   "source": [
    "# VALIDATE RANGE vs. CALORIMETRY ENERGY"
   ]
  },
  {
   "cell_type": "code",
   "execution_count": null,
   "metadata": {},
   "outputs": [],
   "source": [
    "# invert Recombination Modified Box Model to get dE/dx from dQ/dx\n",
    "\n",
    "# argon density [g/cm^3]\n",
    "rho = 1.396\n",
    "# electric field [kV/cm]\n",
    "efield = 0.273\n",
    "# ionization energy [MeV/e-]\n",
    "Wion = 23.6*(10**(-6))\n",
    "\n",
    "fModBoxA = 0.93\n",
    "fModBoxB = 0.562\n",
    "\n",
    "def ModBoxInverse(dqdx):\n",
    "    dedx = (np.exp(fModBoxB * Wion * dqdx ) - fModBoxA) / fModBoxB\n",
    "    return dedx   "
   ]
  },
  {
   "cell_type": "code",
   "execution_count": null,
   "metadata": {},
   "outputs": [],
   "source": [
    "from scipy.interpolate import spline\n",
    "\n",
    "pdg_rr_v = []\n",
    "pdg_dedx_v = []\n",
    "pdg_ke_v = []\n",
    "pdg_rr_fit_v = []\n",
    "pdg_dedx_fit_v = []\n",
    "pdg_ke_fit_v = []\n",
    "\n",
    "fin = open('/home/david//Dropbox/Neutrinos/Varie/michelCalib/mutable.txt')\n",
    "rho = 1.396\n",
    "\n",
    "for line in fin:\n",
    "    words = line.split()\n",
    "    pdg_rr_v.append(   float(words[-1])/rho )\n",
    "    pdg_dedx_v.append( float(words[2]) *rho )\n",
    "    pdg_ke_v.append(   float(words[0])      )\n",
    "\n",
    "\n",
    "pdg_rr_fit_v   = np.linspace(1,1000,10000)\n",
    "pdg_dedx_fit_v = spline(pdg_rr_v,pdg_dedx_v,pdg_rr_fit_v)\n",
    "pdg_ke_fit_v = spline(pdg_rr_v,pdg_ke_v,pdg_rr_fit_v)\n",
    "\n",
    "\n",
    "# fiven a RR value, get the energy\n",
    "def ERange(RR):\n",
    "    for i in xrange(len(pdg_rr_fit_v)):\n",
    "        if (RR <= pdg_rr_fit_v[i]):\n",
    "            return pdg_ke_fit_v[i]              \n",
    "    return -1\n",
    "\n",
    "print(ERange(76.14))\n",
    "\n",
    "fig = plt.figure(figsize=(6,6))\n",
    "plt.plot(pdg_ke_v,pdg_rr_v,'ro')\n",
    "plt.grid()\n",
    "plt.plot(pdg_ke_fit_v,pdg_rr_fit_v,'b--')\n",
    "plt.xlim([180,220])\n",
    "plt.ylim([70,80])\n",
    "plt.xlabel('KE [MeV]')\n",
    "plt.ylabel('Range [cm]')\n",
    "#plt.xscale('log')\n",
    "#plt.yscale('log')\n",
    "plt.show()"
   ]
  },
  {
   "cell_type": "code",
   "execution_count": null,
   "metadata": {},
   "outputs": [],
   "source": [
    "def Pitch(x):\n",
    "    return 0.3/np.abs(x['_pz'])\n",
    "\n",
    "dfcuts['pitch'] = dfcuts.apply(lambda x : Pitch(x),axis=1)"
   ]
  },
  {
   "cell_type": "code",
   "execution_count": null,
   "metadata": {},
   "outputs": [],
   "source": [
    "def Energy(x,elecgain):\n",
    "    energy = 0.\n",
    "    dqdx_v = x['_dqdx_v']\n",
    "    rr_v   = x['_rr_v']\n",
    "    for i in xrange(1,len(dqdx_v)):\n",
    "        dqdx = dqdx_v[i]\n",
    "        drr  = np.abs(rr_v[i-1]-rr_v[i])\n",
    "        dedx = ModBoxInverse(dqdx*elecgain)\n",
    "        energy += drr * dedx\n",
    "    energy += (np.abs(rr_v[0]-rr_v[1])) * ModBoxInverse(dqdx_v[0]*elecgain)\n",
    "    return energy\n",
    "\n",
    "dfcuts['energy'] = dfcuts.apply(lambda x : Energy(x,200.), axis=1)"
   ]
  },
  {
   "cell_type": "code",
   "execution_count": null,
   "metadata": {},
   "outputs": [],
   "source": [
    "def EnergyfromRange(x):\n",
    "    rrmax = np.max(x['_rr_v'])\n",
    "    return ERange(rrmax)\n",
    "dfcuts['erange'] = dfcuts.apply(lambda x : EnergyfromRange(x),axis=1)"
   ]
  },
  {
   "cell_type": "code",
   "execution_count": null,
   "metadata": {},
   "outputs": [],
   "source": [
    "def gauss(x,mu,sigma,A):\n",
    "    return A * (1./np.sqrt(np.pi*2*sigma*sigma)  * np.exp(-((x-mu)**2)/(2*sigma*sigma) ))"
   ]
  },
  {
   "cell_type": "code",
   "execution_count": null,
   "metadata": {},
   "outputs": [],
   "source": [
    "NSKIP = 35"
   ]
  },
  {
   "cell_type": "code",
   "execution_count": null,
   "metadata": {},
   "outputs": [],
   "source": [
    "fig = plt.figure(figsize=(6,6))\n",
    "BINS = (np.linspace(200,800,50),np.linspace(200,800,50))\n",
    "plt.hist2d(dfcuts['_energy_mc'].values-105.,dfcuts['energy'].values,bins=BINS)\n",
    "plt.grid()\n",
    "plt.ylabel('Calorimetry Energy [MeV]',fontsize=20,fontweight='bold')\n",
    "plt.xlabel('Truth Energy [MeV]',fontsize=20,fontweight='bold')\n",
    "plt.xlim([300,800])\n",
    "plt.ylim([300,800])\n",
    "plt.show()\n",
    "\n",
    "dfratio = dfcuts.query('energy/erange > 0.5 and energy/erange < 1.5')\n",
    "frac_v = dfratio['energy'].values/dfratio['erange'].values\n",
    "\n",
    "vals,bine = np.histogram(frac_v,bins=np.linspace(0.5,1.5,100))\n",
    "binc = 0.5*(bine[1:]+bine[:-1])\n",
    "popt,popv = curve_fit(gauss,binc[NSKIP:-NSKIP],vals[NSKIP:-NSKIP],p0=[1.0,0.1,np.sum(vals)])\n",
    "xvals = np.linspace(binc[NSKIP],binc[-NSKIP],1000)\n",
    "\n",
    "fig = plt.figure(figsize=(6,6))\n",
    "plt.plot(xvals,gauss(xvals,*popt),'r--',lw=3,label='$\\mu$ = %.02f $\\sigma$ = %.02f'%(popt[0],popt[1]))\n",
    "plt.errorbar(binc,vals,yerr=np.sqrt(vals),fmt='bo',lw=2,markersize=8)\n",
    "#plt.hist(frac_v,bins=np.linspace(0.7,1.3,50),histtype='step',lw=2)\n",
    "plt.xlim([0.5,1.5])\n",
    "plt.ylim([0,np.max(vals)*1.3])\n",
    "plt.grid()\n",
    "plt.legend()\n",
    "plt.ylabel('Number of Tracks',fontsize=20,fontweight='bold')\n",
    "plt.xlabel('Calorimetry Energy / Truth Energy',fontsize=20,fontweight='bold')\n",
    "plt.show()"
   ]
  },
  {
   "cell_type": "code",
   "execution_count": null,
   "metadata": {},
   "outputs": [],
   "source": [
    "fig = plt.figure(figsize=(6,6))\n",
    "BINS = (np.linspace(200,800,50),np.linspace(200,800,50))\n",
    "plt.hist2d(dfcuts['_energy_mc'].values-105.,dfcuts['erange'].values,bins=BINS)\n",
    "plt.grid()\n",
    "plt.ylabel('Range Energy [MeV]',fontsize=20,fontweight='bold')\n",
    "plt.xlabel('Truth Energy [MeV]',fontsize=20,fontweight='bold')\n",
    "plt.xlim([300,800])\n",
    "plt.ylim([300,800])\n",
    "plt.show()\n",
    "\n",
    "fig = plt.figure(figsize=(6,6))\n",
    "dfratio = dfcuts.query('erange/_energy_mc > 0 and erange/_energy_mc < 1.5')\n",
    "frac_v = dfratio['erange'].values/(dfratio['_energy_mc'].values-105.)\n",
    "\n",
    "vals,bine = np.histogram(frac_v,bins=np.linspace(0.5,1.5,100))\n",
    "binc = 0.5*(bine[1:]+bine[:-1])\n",
    "popt,popv = curve_fit(gauss,binc[NSKIP:-NSKIP],vals[NSKIP:-NSKIP],p0=[1.0,0.1,np.sum(vals)])\n",
    "xvals = np.linspace(binc[NSKIP],binc[-NSKIP],1000)\n",
    "\n",
    "fig = plt.figure(figsize=(6,6))\n",
    "plt.plot(xvals,gauss(xvals,*popt),'r--',lw=3,label='$\\mu$ = %.02f $\\sigma$ = %.02f'%(popt[0],popt[1]))\n",
    "plt.errorbar(binc,vals,yerr=np.sqrt(vals),fmt='bo',lw=2,markersize=8)\n",
    "#plt.hist(frac_v,bins=np.linspace(0.7,1.3,50),histtype='step',lw=2)\n",
    "plt.xlim([0.5,1.5])\n",
    "plt.ylim([0,np.max(vals)*1.3])\n",
    "plt.grid()\n",
    "plt.legend()\n",
    "plt.ylabel('Number of Tracks',fontsize=20,fontweight='bold')\n",
    "plt.xlabel('Range Energy / Truth Energy',fontsize=20,fontweight='bold')\n",
    "plt.show()"
   ]
  },
  {
   "cell_type": "code",
   "execution_count": null,
   "metadata": {},
   "outputs": [],
   "source": [
    "fig = plt.figure(figsize=(6,6))\n",
    "BINS = (np.linspace(200,800,50),np.linspace(200,800,50))\n",
    "plt.hist2d(dfcuts['erange'].values,dfcuts['energy'].values,bins=BINS)\n",
    "plt.grid()\n",
    "plt.ylabel('Range Energy [MeV]',fontsize=20,fontweight='bold')\n",
    "plt.xlabel('Calorimetry Energy [MeV]',fontsize=20,fontweight='bold')\n",
    "plt.xlim([300,800])\n",
    "plt.ylim([300,800])\n",
    "plt.show()\n",
    "\n",
    "fig = plt.figure(figsize=(6,6))\n",
    "#dfratio = dfcuts.query('energy/_energy_mc > 0 and energy/_energy_mc < 1.5')\n",
    "frac_v = dfcuts['energy'].values/dfcuts['erange'].values\n",
    "\n",
    "\n",
    "vals,bine = np.histogram(frac_v,bins=np.linspace(0.5,1.5,100))\n",
    "binc = 0.5*(bine[1:]+bine[:-1])\n",
    "popt,popv = curve_fit(gauss,binc[NSKIP:-NSKIP],vals[NSKIP:-NSKIP],p0=[1.0,0.1,np.sum(vals)])\n",
    "xvals = np.linspace(binc[NSKIP],binc[-NSKIP],1000)\n",
    "\n",
    "fig = plt.figure(figsize=(6,6))\n",
    "plt.plot(xvals,gauss(xvals,*popt),'r--',lw=3,label='$\\mu$ = %.02f $\\sigma$ = %.02f'%(popt[0],popt[1]))\n",
    "plt.errorbar(binc,vals,yerr=np.sqrt(vals),fmt='bo',lw=2,markersize=8)\n",
    "#plt.hist(frac_v,bins=np.linspace(0.7,1.3,50),histtype='step',lw=2)\n",
    "plt.xlim([0.5,1.5])\n",
    "plt.ylim([0,np.max(vals)*1.3])\n",
    "plt.grid()\n",
    "plt.legend()\n",
    "plt.ylabel('Number of Tracks',fontsize=20,fontweight='bold')\n",
    "plt.xlabel('Calorimetry Energy / Range Energy',fontsize=20,fontweight='bold')\n",
    "plt.show()"
   ]
  },
  {
   "cell_type": "code",
   "execution_count": null,
   "metadata": {},
   "outputs": [],
   "source": []
  },
  {
   "cell_type": "code",
   "execution_count": null,
   "metadata": {},
   "outputs": [],
   "source": []
  }
 ],
 "metadata": {
  "kernelspec": {
   "display_name": "Python 3",
   "language": "python3",
   "name": "python3"
  },
  "language_info": {
   "codemirror_mode": {
    "name": "ipython",
    "version": 3
   },
   "file_extension": ".py",
   "mimetype": "text/x-python",
   "name": "python",
   "nbconvert_exporter": "python",
   "pygments_lexer": "ipython3",
   "version": "3.6.6"
  }
 },
 "nbformat": 4,
 "nbformat_minor": 2
}

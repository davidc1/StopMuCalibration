{
 "cells": [
  {
   "cell_type": "code",
   "execution_count": 1,
   "metadata": {},
   "outputs": [
    {
     "name": "stdout",
     "output_type": "stream",
     "text": [
      "Welcome to JupyROOT 6.14/00\n"
     ]
    }
   ],
   "source": [
    "%load_ext autoreload\n",
    "%autoreload 2\n",
    "\n",
    "from math import pi\n",
    "from glob import glob\n",
    "\n",
    "import numpy as np\n",
    "import matplotlib.pyplot as plt\n",
    "from matplotlib import colors\n",
    "\n",
    "from root_pandas import read_root"
   ]
  },
  {
   "cell_type": "code",
   "execution_count": 2,
   "metadata": {},
   "outputs": [],
   "source": [
    "import ROOT"
   ]
  },
  {
   "cell_type": "code",
   "execution_count": 3,
   "metadata": {},
   "outputs": [],
   "source": [
    "!mkdir -p /home/nick/Dropbox/MicroBooNE/_fig/18_11_01/stop_muons/"
   ]
  },
  {
   "cell_type": "code",
   "execution_count": 4,
   "metadata": {},
   "outputs": [],
   "source": [
    "save_folder = '/home/nick/Dropbox/MicroBooNE/_fig/18_11_01/stop_muons/'"
   ]
  },
  {
   "cell_type": "code",
   "execution_count": 5,
   "metadata": {},
   "outputs": [],
   "source": [
    "# detector_x = [0, 256.35]\n",
    "detector_x = [-50, 315]\n",
    "detector_y = [-116.5, 116.5]\n",
    "detector_z = [0, 1036.8]"
   ]
  },
  {
   "cell_type": "code",
   "execution_count": null,
   "metadata": {},
   "outputs": [],
   "source": [
    "plt.rcParams.update({'font.size': 14})"
   ]
  },
  {
   "cell_type": "markdown",
   "metadata": {},
   "source": [
    "## Useful functions"
   ]
  },
  {
   "cell_type": "code",
   "execution_count": 6,
   "metadata": {},
   "outputs": [],
   "source": [
    "def point_is_fiducial(x, y, z, fiducial_x=[10, -10], fiducial_y=[30, -30], fiducial_z=[30, -30]):\n",
    "#     is_x = (detector_x[0] + fiducial_x[0] < df[x]) & (df[x] < detector_x[1] + fiducial_x[1])\n",
    "    is_y = (detector_y[0] + fiducial_y[0] < df[y]) & (df[y] < detector_y[1] + fiducial_y[1])\n",
    "    is_z = (detector_z[0] + fiducial_z[0] < df[z]) & (df[z] < detector_z[1] + fiducial_z[1])\n",
    "    return is_y & is_z\n",
    "\n",
    "def PitchY(xs,ys,zs,xe,ye,ze):\n",
    "    sdir = np.array([df[xs],df[ys],df[zs]])\n",
    "    edir = np.array([df[xe],df[ye],df[ze]])\n",
    "    tdir = edir-sdir\n",
    "    tmag = np.sqrt(tdir[0]**2+tdir[1]**2+tdir[2]**2)\n",
    "    theta = np.arccos(tdir[2]/tmag)\n",
    "    #theta = np.arccos(tdir.Z())\n",
    "    return theta\n",
    "\n",
    "def MediandQdx(x):\n",
    "    return np.median(x['_dqdx_v'])"
   ]
  },
  {
   "cell_type": "code",
   "execution_count": 7,
   "metadata": {},
   "outputs": [],
   "source": [
    "def plot_stop_through_going(df, variable, binning, cut=10):\n",
    "    stop_muons = df.query('0 < _yz_true_reco_distance < {}'.format(cut))[variable].values\n",
    "    through_muons = df.query('_yz_true_reco_distance > {}'.format(cut))[variable].values\n",
    "    plt.hist(through_muons, \n",
    "             bins=binning[0], \n",
    "             range=(binning[1], binning[2]), \n",
    "             label='through muons', \n",
    "             density=True, \n",
    "             histtype='step',\n",
    "             lw=2)\n",
    "    plt.hist(stop_muons, \n",
    "             bins=binning[0], \n",
    "             range=(binning[1], binning[2]), \n",
    "             label='stop muons', \n",
    "             density=True, \n",
    "             histtype='step',\n",
    "             lw=2)\n",
    "    plt.legend()\n",
    "    plt.xlabel(variable)\n",
    "    plt.ylabel('entries / {:.2f}'.format((binning[2]-binning[1])/binning[0]))"
   ]
  },
  {
   "cell_type": "markdown",
   "metadata": {},
   "source": [
    "## Load datasets"
   ]
  },
  {
   "cell_type": "code",
   "execution_count": 8,
   "metadata": {},
   "outputs": [],
   "source": [
    "# file_dir = \"/home/david/data/StopMuCalibration/\"\n",
    "file_dir = \"/home/nick/Desktop/MicroBooNE/StopMuCalibration/v07_07_03/stopmu_tag2/1030/prodgenie_bnb_nu_cosmic_uboone_mcc9.0_beta2_oct_reco_2d_wc_reco2/v1/*\"\n",
    "file_list = glob(file_dir+\"/stopmu_ana.root\")\n",
    "# print(file_list)"
   ]
  },
  {
   "cell_type": "code",
   "execution_count": 9,
   "metadata": {},
   "outputs": [
    {
     "name": "stdout",
     "output_type": "stream",
     "text": [
      "(942606, 21)\n"
     ]
    }
   ],
   "source": [
    "df = read_root(file_list, key=\"stopmu/reco_tree\")\n",
    "print(df.shape)"
   ]
  },
  {
   "cell_type": "code",
   "execution_count": 10,
   "metadata": {},
   "outputs": [
    {
     "data": {
      "text/plain": [
       "Index(['_trk_len', '_trk_start_x', '_trk_start_y', '_trk_start_z',\n",
       "       '_trk_end_x', '_trk_end_y', '_trk_end_z', '_yz_true_reco_distance',\n",
       "       '_pitch_u', '_pitch_v', '_pitch_y', '_dqdx_u', '_dqdx_v', '_dqdx_y',\n",
       "       '_dqdx_tm_u', '_dqdx_tm_v', '_dqdx_tm_y', '_rr_u', '_rr_v', '_rr_y',\n",
       "       '_delta_t_closest_flash'],\n",
       "      dtype='object')"
      ]
     },
     "execution_count": 10,
     "metadata": {},
     "output_type": "execute_result"
    }
   ],
   "source": [
    "df[['_trk_len', '_trk_start_x', '_trk_start_y', '_trk_start_z',\n",
    "       '_trk_end_x', '_trk_end_y', '_trk_end_z', '_yz_true_reco_distance', '_delta_t_closest_flash'\n",
    "]]"
   ]
  },
  {
   "cell_type": "code",
   "execution_count": null,
   "metadata": {},
   "outputs": [],
   "source": [
    "selection = '0<_yz_true_reco_distance<10 & _trk_len > 50'\n",
    "dqdx_u = np.hstack(df.query(selection)['_dqdx_u'].values)\n",
    "dqdx_v = np.hstack(df.query(selection)['_dqdx_v'].values)\n",
    "dqdx_y = np.hstack(df.query(selection)['_dqdx_y'].values)\n",
    "\n",
    "rr_u = np.hstack(df.query(selection)['_rr_u'].values)\n",
    "rr_v = np.hstack(df.query(selection)['_rr_v'].values)\n",
    "rr_y = np.hstack(df.query(selection)['_rr_y'].values)\n",
    "\n",
    "plt.hist2d(x=rr_u, y=dqdx_u, bins=(200, 200), range=((0,200), (0, 600)));\n",
    "plt.title('dQdx vs residual range, plane U')\n",
    "plt.xlabel('Residual range [cm]')\n",
    "plt.ylabel('dQ/dx [adc/cm]')\n",
    "plt.tight_layout()\n",
    "plt.savefig(save_folder+'dqdx_u_only_stop_truth.png', dpi=500)\n",
    "plt.close()\n",
    "\n",
    "plt.hist2d(x=rr_v, y=dqdx_v, bins=(200, 200), range=((0,200), (0, 600)));\n",
    "plt.title('dQdx vs residual range, plane V')\n",
    "plt.xlabel('Residual range [cm]')\n",
    "plt.ylabel('dQ/dx [adc/cm]')\n",
    "plt.tight_layout()\n",
    "plt.savefig(save_folder+'dqdx_v_only_stop_truth.png', dpi=500)\n",
    "plt.close()\n",
    "\n",
    "plt.hist2d(x=rr_y, y=dqdx_y, bins=(200, 200), range=((0,200), (0, 600)));\n",
    "plt.title('dQdx vs residual range, plane Y')\n",
    "plt.xlabel('Residual range [cm]')\n",
    "plt.ylabel('dQ/dx [adc/cm]')\n",
    "plt.tight_layout()\n",
    "plt.savefig(save_folder+'dqdx_y_only_stop_truth.png', dpi=500)\n",
    "plt.close()"
   ]
  },
  {
   "cell_type": "code",
   "execution_count": null,
   "metadata": {},
   "outputs": [],
   "source": [
    "df['start_is_fiducial'] = point_is_fiducial('_trk_start_x', '_trk_start_y', '_trk_start_z')\n",
    "df['end_is_fiducial'] = point_is_fiducial('_trk_end_x', '_trk_end_y', '_trk_end_z')\n",
    "df['start_x_fiducial'] = (detector_x[0] + 15 < df['_trk_start_x']) & (df['_trk_start_x'] < detector_x[1] -15)\n",
    "df['end_x_fiducial'] = (detector_x[0] + 15 < df['_trk_end_x']) & (df['_trk_end_x'] < detector_x[1] -15)\n",
    "df['far_from_bottom'] = df['_trk_end_y'] > -90\n",
    "df['start_end_y'] = df['_trk_start_y'] - df['_trk_end_y']"
   ]
  },
  {
   "cell_type": "code",
   "execution_count": null,
   "metadata": {},
   "outputs": [],
   "source": [
    "cuts = [\n",
    "    '_trk_len>150',\n",
    "    'far_from_bottom==True',\n",
    "    '(_trk_start_y >_trk_end_y)',\n",
    "    '(30 < _trk_end_z < 1000)',\n",
    "    '(abs(_delta_t_closest_flash) > 10)',\n",
    "#     'start_x_fiducial==True',\n",
    "    'end_x_fiducial==True'\n",
    "]\n",
    "selection = \" & \".join(cuts)\n",
    "selection_through = \" & \".join(cuts + ['_yz_true_reco_distance>10'])\n",
    "selection_stop = \" & \".join(cuts + ['0<_yz_true_reco_distance<10'])\n",
    "\n",
    "plt.subplot(1, 2, 1)\n",
    "plt.hist2d(x=df.query(selection_through)['_trk_start_y'],\n",
    "           y=df.query(selection_through)['_trk_end_y'],\n",
    "           bins=(100,100),\n",
    "           range=([-120,120],[-120,120]),\n",
    "           norm=colors.LogNorm());\n",
    "plt.colorbar()\n",
    "plt.xlabel('start y [cm]')\n",
    "plt.ylabel('end y [cm]')\n",
    "plt.title(\"through going\")\n",
    "\n",
    "plt.subplot(1, 2, 2)\n",
    "plt.hist2d(x=df.query(selection_stop)['_trk_start_y'],\n",
    "           y=df.query(selection_stop)['_trk_end_y'],\n",
    "           bins=(100,100),\n",
    "           range=([-120,120],[-120,120]),\n",
    "           norm=colors.LogNorm());\n",
    "plt.colorbar()\n",
    "plt.xlabel('start y [cm]')\n",
    "# plt.ylabel('end y [cm]')\n",
    "plt.title(\"stop\")\n",
    "plt.tight_layout()\n",
    "\n",
    "plt.savefig(save_folder+'2dxy_'+selection+'.png', dpi=500)"
   ]
  },
  {
   "cell_type": "code",
   "execution_count": null,
   "metadata": {},
   "outputs": [],
   "source": []
  },
  {
   "cell_type": "code",
   "execution_count": null,
   "metadata": {},
   "outputs": [],
   "source": [
    "df['_yz_true_reco_distance'].hist(bins=105, range=(-5,100))\n",
    "plt.xlabel('yz distance [cm]')\n",
    "plt.ylabel('Entries / 1 cm')\n",
    "# plt.title('Distance in the yz plane between reco and true and point')\n",
    "plt.tight_layout()\n",
    "# plt.savefig(save_folder+'yz_distance.png', dpi=500)"
   ]
  },
  {
   "cell_type": "code",
   "execution_count": null,
   "metadata": {},
   "outputs": [],
   "source": [
    "variables_binning = {\n",
    "#     '_delta_t_closest_flash': [200, -100, 100],\n",
    "#     '_trk_start_x': [100, -60, 340],\n",
    "#     '_trk_end_x': [100, -60, 340],\n",
    "#     '_trk_start_y': [100, -120, +120],\n",
    "#     '_trk_end_y': [100, -120, +120],\n",
    "#     '_trk_start_z': [200, 0, 1100],\n",
    "#     '_trk_end_z': [200, 0, 1100],\n",
    "    'start_end_y': [200, -20, 20],\n",
    "    '_trk_len': [200, 0, 100],\n",
    "}"
   ]
  },
  {
   "cell_type": "code",
   "execution_count": null,
   "metadata": {},
   "outputs": [],
   "source": [
    "for var, binning in variables_binning.items():\n",
    "    plot_stop_through_going(df, var, binning=binning, cut=10)   \n",
    "    plt.tight_layout()\n",
    "    plt.savefig(save_folder+var+'.png', dpi=500)\n",
    "    plt.close()"
   ]
  },
  {
   "cell_type": "code",
   "execution_count": null,
   "metadata": {},
   "outputs": [],
   "source": [
    "cuts = [\n",
    "    '0<_yz_true_reco_distance < 10',\n",
    "    '_trk_len<200',\n",
    "#     'far_from_bottom==True',\n",
    "#     '(_trk_start_y >_trk_end_y)',\n",
    "#     '(30 < _trk_end_z < 1000)',\n",
    "#     '(abs(_delta_t_closest_flash) > 10)',\n",
    "#     'end_x_fiducial==True'\n",
    "]\n",
    "selection = ' & '.join(cuts)\n",
    "selected_df = df.query(selection)\n",
    "print(selected_df.shape)"
   ]
  },
  {
   "cell_type": "code",
   "execution_count": null,
   "metadata": {},
   "outputs": [],
   "source": [
    "dqdx_u = np.hstack(selected_df['_dqdx_u'].values)\n",
    "dqdx_v = np.hstack(selected_df['_dqdx_v'].values)\n",
    "dqdx_y = np.hstack(selected_df['_dqdx_y'].values)\n",
    "\n",
    "rr_u = np.hstack(selected_df['_rr_u'].values)\n",
    "rr_v = np.hstack(selected_df['_rr_v'].values)\n",
    "rr_y = np.hstack(selected_df['_rr_y'].values)\n",
    "\n",
    "plt.hist2d(x=rr_u, y=dqdx_u, bins=(200, 200), range=((0,200), (0, 600)));\n",
    "plt.title('dQdx vs residual range, plane U')\n",
    "plt.xlabel('Residual range [cm]')\n",
    "plt.ylabel('dQ/dx [adc/cm]')\n",
    "plt.tight_layout()\n",
    "plt.savefig(save_folder+'dqdx_u_selected.png', dpi=500)\n",
    "plt.close()\n",
    "\n",
    "plt.hist2d(x=rr_v, y=dqdx_v, bins=(200, 200), range=((0,200), (0, 600)));\n",
    "plt.title('dQdx vs residual range, plane V')\n",
    "plt.xlabel('Residual range [cm]')\n",
    "plt.ylabel('dQ/dx [adc/cm]')\n",
    "plt.tight_layout()\n",
    "plt.savefig(save_folder+'dqdx_v_selected.png', dpi=500)\n",
    "plt.close()\n",
    "\n",
    "plt.hist2d(x=rr_y, y=dqdx_y, bins=(200, 200), range=((0,200), (0, 600)));\n",
    "plt.title('dQdx vs residual range, plane Y')\n",
    "plt.xlabel('Residual range [cm]')\n",
    "plt.ylabel('dQ/dx [adc/cm]')\n",
    "plt.tight_layout()\n",
    "plt.savefig(save_folder+'dqdx_y_selected.png', dpi=500)\n",
    "plt.close()"
   ]
  },
  {
   "cell_type": "code",
   "execution_count": null,
   "metadata": {},
   "outputs": [],
   "source": [
    "for var, binning in variables_binning.items():\n",
    "    plot_stop_through_going(selected_df, var, binning=binning, cut=10)   \n",
    "    plt.tight_layout()\n",
    "    plt.savefig(save_folder+var+'_selected.png', dpi=500)\n",
    "    plt.close()"
   ]
  },
  {
   "cell_type": "code",
   "execution_count": null,
   "metadata": {},
   "outputs": [],
   "source": [
    "selected_df['_yz_true_reco_distance'].hist(bins=20, range=(-0.), log=True)\n",
    "plt.xlabel('yz distance [cm]')\n",
    "plt.ylabel('Entries / 1 cm')\n",
    "# plt.title('Distance in the yz plane between reco and true and point')\n",
    "plt.tight_layout()\n",
    "plt.savefig(save_folder+'yz_distance_selected.png', dpi=500)"
   ]
  },
  {
   "cell_type": "code",
   "execution_count": null,
   "metadata": {},
   "outputs": [],
   "source": []
  },
  {
   "cell_type": "code",
   "execution_count": null,
   "metadata": {},
   "outputs": [],
   "source": []
  },
  {
   "cell_type": "code",
   "execution_count": null,
   "metadata": {},
   "outputs": [],
   "source": []
  },
  {
   "cell_type": "code",
   "execution_count": null,
   "metadata": {},
   "outputs": [],
   "source": []
  },
  {
   "cell_type": "code",
   "execution_count": null,
   "metadata": {},
   "outputs": [],
   "source": [
    "dqdx_u = np.hstack(df['_dqdx_u'].values)\n",
    "dqdx_v = np.hstack(df['_dqdx_v'].values)\n",
    "dqdx_y = np.hstack(df['_dqdx_y'].values)\n",
    "\n",
    "rr_u = np.hstack(df['_rr_u'].values)\n",
    "rr_v = np.hstack(df['_rr_v'].values)\n",
    "rr_y = np.hstack(df['_rr_y'].values)\n",
    "\n",
    "plt.hist2d(x=rr_u, y=dqdx_u, bins=(30, 30), range=((0,200), (0, 600)));\n",
    "plt.title('dQdx vs residual range, plane U')\n",
    "\n",
    "plt.hist2d(x=rr_v, y=dqdx_v, bins=(30, 30), range=((0,200), (0, 600)));\n",
    "plt.title('dQdx vs residual range, plane V')\n",
    "\n",
    "plt.hist2d(x=rr_y, y=dqdx_y, bins=(30, 30), range=((0,200), (0, 600)));\n",
    "plt.title('dQdx vs residual range, plane Y')"
   ]
  },
  {
   "cell_type": "code",
   "execution_count": null,
   "metadata": {},
   "outputs": [],
   "source": [
    "df.query()['_yz_true_reco_distance'].hist(bins=100, range=(0,100))"
   ]
  },
  {
   "cell_type": "code",
   "execution_count": null,
   "metadata": {},
   "outputs": [],
   "source": [
    "df['_yz_true_reco_distance'].hist(bins=100, range=(0,100))"
   ]
  },
  {
   "cell_type": "code",
   "execution_count": null,
   "metadata": {},
   "outputs": [],
   "source": [
    "df['theta'] = PitchY('_trk_start_x','_trk_start_y','_trk_start_z','_trk_end_x','_trk_end_y','_trk_end_z')"
   ]
  },
  {
   "cell_type": "code",
   "execution_count": null,
   "metadata": {},
   "outputs": [],
   "source": [
    "df['pitch'] = 0.3/np.cos(df['theta'])#df.apply(lambda x : 0.3/np.cos(df['theta']),axis=1)"
   ]
  },
  {
   "cell_type": "code",
   "execution_count": null,
   "metadata": {},
   "outputs": [],
   "source": [
    "#df['median_dqdx'] = df.apply(lambda x: MediandQdx(x), axis=1)"
   ]
  },
  {
   "cell_type": "code",
   "execution_count": null,
   "metadata": {},
   "outputs": [],
   "source": [
    "fig = plt.figure(figsize=(6,6))\n",
    "plt.hist(np.abs(df['pitch'].values),bins=np.linspace(0.3,1,100), density=True)\n",
    "plt.grid()\n",
    "plt.xlabel(\"pitch [cm]\")\n",
    "plt.ylabel(\"Area normalized / {:.2f} cm\".format((1-0.3)/100))\n",
    "plt.title(\"pitch Y plane, tag0\")\n",
    "plt.show()"
   ]
  },
  {
   "cell_type": "code",
   "execution_count": null,
   "metadata": {},
   "outputs": [],
   "source": [
    "from Recombination import RecombModBox\n",
    "from LandauEloss import dedx, dpdx"
   ]
  },
  {
   "cell_type": "code",
   "execution_count": null,
   "metadata": {},
   "outputs": [],
   "source": [
    "selected2_df = df.query('start_is_fiducial==False & end_is_fiducial==False & _trk_len>50 and _pl==2')\n",
    "selected1_df = df.query('start_is_fiducial==False & end_is_fiducial==False & _trk_len>50 and _pl==1')\n",
    "selected0_df = df.query('start_is_fiducial==False & end_is_fiducial==False & _trk_len>50 and _pl==0')"
   ]
  },
  {
   "cell_type": "code",
   "execution_count": null,
   "metadata": {},
   "outputs": [],
   "source": [
    "dqdx_v_2 = np.hstack(selected2_df['_dqdx_v'].values)\n",
    "dqdx_v_1 = np.hstack(selected1_df['_dqdx_v'].values)\n",
    "dqdx_v_0 = np.hstack(selected0_df['_dqdx_v'].values)"
   ]
  },
  {
   "cell_type": "code",
   "execution_count": null,
   "metadata": {},
   "outputs": [],
   "source": [
    "fig = plt.figure(figsize=(6,6))\n",
    "BINS = np.linspace(0,400,100)\n",
    "plt.hist(dqdx_v_2,bins=BINS,color='r',lw=2,histtype='step',label='Pl 2')\n",
    "plt.hist(dqdx_v_1,bins=BINS,color='g',lw=2,histtype='step',label='Pl 1')\n",
    "plt.hist(dqdx_v_0,bins=BINS,color='b',lw=2,histtype='step',label='Pl 0')\n",
    "plt.grid()\n",
    "plt.xlabel('dQ/dx [ADC/cm]')\n",
    "plt.gca().get_yaxis().set_visible(False)\n",
    "plt.legend()\n",
    "plt.show()"
   ]
  },
  {
   "cell_type": "code",
   "execution_count": null,
   "metadata": {},
   "outputs": [],
   "source": [
    "# assume uniform distribution from 1 to 10 GeV\n",
    "# sample from pitch distribution of sample\n",
    "\n",
    "dpdx_v_th = []\n",
    "dqdx_v_th = []\n",
    "\n",
    "for i in xrange(60000):\n",
    "    mu_energy = np.random.rand()*9 + 1\n",
    "    pitch = np.abs(df['pitch'][i])\n",
    "    dpdxval = dpdx(mu_energy*1e3,pitch,105.)\n",
    "    R = RecombModBox(dpdxval)\n",
    "    dqdx = dpdxval * (1-R) / (23.6/1e3)\n",
    "    dpdx_v_th.append(dpdxval)\n",
    "    dqdx_v_th.append(dqdx)"
   ]
  },
  {
   "cell_type": "code",
   "execution_count": null,
   "metadata": {},
   "outputs": [],
   "source": [
    "fig = plt.figure(figsize=(6,6))\n",
    "plt.hist(dpdx_v_th,bins=np.linspace(1,3,100))\n",
    "plt.grid()\n",
    "plt.title('expected dE/dx from $\\mu$ flux')\n",
    "plt.xlabel('dE/dx [MeV/cm]')\n",
    "plt.gca().get_yaxis().set_visible(False)\n",
    "plt.show()\n",
    "\n",
    "fig = plt.figure(figsize=(6,6))\n",
    "plt.hist(dqdx_v_th,bins=np.linspace(4e1,6e1,100))\n",
    "med = np.median(dqdx_v_th)\n",
    "std = np.std(dqdx_v_th)\n",
    "plt.errorbar(med,1000.,xerr=std,fmt='o',color='r',lw=2,label='%.0f $\\pm$ %.0f'%(med,std))\n",
    "plt.grid()\n",
    "plt.legend()\n",
    "plt.title('expected dQ/dx from $\\mu$ flux')\n",
    "plt.xlabel('dQ/dx [1k $e^-$ /cm]')\n",
    "plt.gca().get_yaxis().set_visible(False)\n",
    "plt.show()"
   ]
  },
  {
   "cell_type": "code",
   "execution_count": null,
   "metadata": {},
   "outputs": [],
   "source": [
    "# pylandau from https://github.com/SiLab-Bonn/pylandau\n",
    "from pylandau import langau"
   ]
  },
  {
   "cell_type": "code",
   "execution_count": null,
   "metadata": {},
   "outputs": [],
   "source": [
    "from scipy.optimize import curve_fit"
   ]
  },
  {
   "cell_type": "code",
   "execution_count": null,
   "metadata": {},
   "outputs": [],
   "source": [
    "# PLANE 2\n",
    "vals2,bine2 = np.histogram(dqdx_v_2,bins=np.linspace(100,400,100))\n",
    "valsmax2 = np.max(vals2)\n",
    "vals2 = vals2.astype(float)\n",
    "vals2 /= valsmax2\n",
    "binc2 = 0.5*(bine2[1:]+bine2[:-1])\n",
    "# PLANE 1\n",
    "vals1,bine1 = np.histogram(dqdx_v_1,bins=np.linspace(100,400,100))\n",
    "valsmax1 = np.max(vals1)\n",
    "vals1 = vals1.astype(float)\n",
    "vals1 /= valsmax1\n",
    "binc1 = 0.5*(bine1[1:]+bine1[:-1])\n",
    "# PLANE 0\n",
    "vals0,bine0 = np.histogram(dqdx_v_0,bins=np.linspace(100,400,100))\n",
    "valsmax0 = np.max(vals0)\n",
    "vals0 = vals0.astype(float)\n",
    "vals0 /= valsmax0\n",
    "binc0 = 0.5*(bine0[1:]+bine0[:-1])"
   ]
  },
  {
   "cell_type": "code",
   "execution_count": null,
   "metadata": {},
   "outputs": [],
   "source": [
    "guess2 = [200,20,20]\n",
    "guess1 = [200,40,40]\n",
    "guess0 = [200,40,40]\n",
    "popt2,popv2 = curve_fit(langau,binc2,vals2,p0=guess2)\n",
    "popt1,popv1 = curve_fit(langau,binc1,vals1,p0=guess1)\n",
    "popt0,popv0 = curve_fit(langau,binc0,vals0,p0=guess0)"
   ]
  },
  {
   "cell_type": "code",
   "execution_count": null,
   "metadata": {},
   "outputs": [],
   "source": [
    "print(popt2)\n",
    "print(popt1)\n",
    "print(popt0)"
   ]
  },
  {
   "cell_type": "code",
   "execution_count": null,
   "metadata": {},
   "outputs": [],
   "source": [
    "fig = plt.figure(figsize=(10,6))\n",
    "plt.plot(binc2,vals2,'r-',lw=2,label='Pl 2: MPV = %.0f $\\sigma$ = %.0f'%(popt2[0],popt2[2]))\n",
    "plt.plot(binc2,langau(binc2,*popt2),'r--',lw=3)\n",
    "plt.plot(binc1,vals1,'g-',lw=2,label='Pl 1: MPV = %.0f $\\sigma$ = %.0f'%(popt1[0],popt1[2]))\n",
    "plt.plot(binc1,langau(binc1,*popt1),'g--',lw=3)\n",
    "plt.plot(binc0,vals0,'b-',lw=2,label='Pl 0: MPV = %.0f $\\sigma$ = %.0f'%(popt0[0],popt0[2]))\n",
    "plt.plot(binc0,langau(binc0,*popt0),'b--',lw=3)\n",
    "plt.grid()\n",
    "plt.xlabel('dQ/dx [ADC/cm]')\n",
    "plt.legend(loc=1)\n",
    "plt.show()"
   ]
  },
  {
   "cell_type": "code",
   "execution_count": null,
   "metadata": {},
   "outputs": [],
   "source": [
    "# Gain obtained by tuning MPV to theoretical expectation of 50 +/- 2\n",
    "G2  = 5e4 / popt2[0]\n",
    "G2e = 2e3 / popt2[0]\n",
    "G1  = 5e4 / popt1[0]\n",
    "G1e = 2e3 / popt1[0]\n",
    "G0  = 5e4 / popt0[0]\n",
    "G0e = 2e3 / popt0[0]"
   ]
  },
  {
   "cell_type": "code",
   "execution_count": null,
   "metadata": {},
   "outputs": [],
   "source": [
    "print('Gain Pl2 : %.01f +/- %.01f e-/ADC'%(G2,G2e))\n",
    "print('Gain Pl1 : %.01f +/- %.01f e-/ADC'%(G1,G1e))\n",
    "print('Gain Pl0 : %.01f +/- %.01f e-/ADC'%(G0,G0e))"
   ]
  },
  {
   "cell_type": "code",
   "execution_count": null,
   "metadata": {},
   "outputs": [],
   "source": [
    "fig = plt.figure(figsize=(10,6))\n",
    "plt.plot(binc2,vals2,'r-',lw=2,label='Pl 2: Gain = %.0f $\\pm$ %.0f  e-/ADC'%(G2,G2e))\n",
    "plt.plot(binc2,langau(binc2,*popt2),'r--',lw=3)\n",
    "plt.plot(binc1,vals1,'g-',lw=2,label='Pl 1: Gain = %.0f $\\pm$ %.0f  e-/ADC'%(G1,G1e))\n",
    "plt.plot(binc1,langau(binc1,*popt1),'g--',lw=3)\n",
    "plt.plot(binc0,vals0,'b-',lw=2,label='Pl 0: Gain = %.0f $\\pm$ %.0f  e-/ADC'%(G0,G0e))\n",
    "plt.plot(binc0,langau(binc0,*popt0),'b--',lw=3)\n",
    "plt.grid()\n",
    "plt.xlabel('dQ/dx [ADC/cm]')\n",
    "plt.legend(loc=1,fontsize=16)\n",
    "plt.show()"
   ]
  },
  {
   "cell_type": "code",
   "execution_count": null,
   "metadata": {},
   "outputs": [],
   "source": []
  }
 ],
 "metadata": {
  "kernelspec": {
   "display_name": "Python 3",
   "language": "python3",
   "name": "python3"
  },
  "language_info": {
   "codemirror_mode": {
    "name": "ipython",
    "version": 3
   },
   "file_extension": ".py",
   "mimetype": "text/x-python",
   "name": "python",
   "nbconvert_exporter": "python",
   "pygments_lexer": "ipython3",
   "version": "3.6.6"
  }
 },
 "nbformat": 4,
 "nbformat_minor": 2
}

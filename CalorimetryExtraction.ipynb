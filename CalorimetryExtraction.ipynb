{
 "cells": [
  {
   "cell_type": "code",
   "execution_count": null,
   "metadata": {},
   "outputs": [],
   "source": [
    "%matplotlib inline\n",
    "#%pylab\n",
    "import matplotlib\n",
    "import matplotlib.pyplot as plt\n",
    "import matplotlib.colors as mpc\n",
    "import matplotlib.dates as dts\n",
    "import numpy as np\n",
    "import pandas as pd\n",
    "import itertools\n",
    "import os\n",
    "import ROOT\n",
    "import datetime\n",
    "from root_numpy import root2array, root2rec, tree2rec, array2root\n",
    "from scipy.optimize import curve_fit\n",
    "from scipy.misc import factorial\n",
    "plt.rcParams.update({'font.size': 16})"
   ]
  },
  {
   "cell_type": "code",
   "execution_count": null,
   "metadata": {},
   "outputs": [],
   "source": [
    "#df = pd.read_pickle('stopmu.pkl')\n",
    "#df = pd.read_pickle('stopmu_data_mcc83.pkl') # data\n",
    "data = pd.read_csv('stopmu_mcc83.csv',sep='\\t')\n",
    "print data.shape"
   ]
  },
  {
   "cell_type": "code",
   "execution_count": null,
   "metadata": {},
   "outputs": [],
   "source": [
    "data.columns = ['rr','dqdx','pitch','px','py','pz']"
   ]
  },
  {
   "cell_type": "code",
   "execution_count": null,
   "metadata": {},
   "outputs": [],
   "source": [
    "fig = plt.figure(figsize=(12,6))\n",
    "BINS = ( np.linspace(0,150,100), np.linspace(150,500,100) )\n",
    "plt.hist2d(data['rr'].values,data['dqdx'].values,bins=BINS)\n",
    "plt.grid()\n",
    "plt.xlabel('Residual Range [ cm ]',fontsize=20,fontweight='bold')\n",
    "plt.ylabel('dQ/dx [ ADC / cm ]',fontsize=20,fontweight='bold')\n",
    "plt.title('Tagged Stopping Muon Profile [MC Cosmics]',fontsize=20,fontweight='bold')\n",
    "plt.show()"
   ]
  },
  {
   "cell_type": "code",
   "execution_count": null,
   "metadata": {},
   "outputs": [],
   "source": [
    "fig = plt.figure(figsize=(6,6))\n",
    "datamip = data.query('rr > 100 and rr < 140')\n",
    "BINS = np.linspace(150,350,100)\n",
    "plt.hist(datamip['dqdx'].values,bins=BINS,histtype='step',lw=2)\n",
    "plt.grid()\n",
    "plt.show()"
   ]
  },
  {
   "cell_type": "code",
   "execution_count": null,
   "metadata": {},
   "outputs": [],
   "source": [
    "# invert Recombination Modified Box Model to get dE/dx from dQ/dx\n",
    "\n",
    "# argon density [g/cm^3]\n",
    "rho = 1.396\n",
    "# electric field [kV/cm]\n",
    "efield = 0.273\n",
    "# ionization energy [MeV/e]\n",
    "Wion = 23.6*(10**(-6))\n",
    "\n",
    "fModBoxA = 0.93\n",
    "fModBoxB = 0.562\n",
    "\n",
    "def ModBoxInverse(dqdx):\n",
    "    dedx = (np.exp(fModBoxB * Wion * dqdx ) - fModBoxA) / fModBoxB\n",
    "    return dedx    "
   ]
  },
  {
   "cell_type": "code",
   "execution_count": null,
   "metadata": {},
   "outputs": [],
   "source": [
    "# we know the true electronics gain in simulation, apply and then convert to dEdx\n",
    "\n",
    "# electronics gain [e/ADC]\n",
    "elecgain = 200.\n",
    "\n",
    "def dEdx(x):\n",
    "    dqdx = x['dqdx'] * elecgain\n",
    "    return ModBoxInverse(dqdx)"
   ]
  },
  {
   "cell_type": "code",
   "execution_count": null,
   "metadata": {},
   "outputs": [],
   "source": [
    "data['dedx'] = data.apply(lambda x : dEdx(x), axis=1)"
   ]
  },
  {
   "cell_type": "code",
   "execution_count": null,
   "metadata": {},
   "outputs": [],
   "source": [
    "fig = plt.figure(figsize=(12,6))\n",
    "BINS = ( np.linspace(0,150,100), np.linspace(1,3,100) )\n",
    "plt.hist2d(data['rr'].values,data['dedx'].values,bins=BINS)\n",
    "plt.grid()\n",
    "plt.xlabel('Residual Range [ cm ]',fontsize=20,fontweight='bold')\n",
    "plt.ylabel('dQ/dx [ MeV / cm ]',fontsize=20,fontweight='bold')\n",
    "plt.title('Tagged Stopping Muon Profile [MC Cosmics]',fontsize=20,fontweight='bold')\n",
    "plt.show()"
   ]
  },
  {
   "cell_type": "code",
   "execution_count": null,
   "metadata": {},
   "outputs": [],
   "source": [
    "from larlite import larlite as ll"
   ]
  },
  {
   "cell_type": "code",
   "execution_count": null,
   "metadata": {},
   "outputs": [],
   "source": [
    "def GL(x_v,mpv,sG,sL,A):\n",
    "    \n",
    "    lv_v = []\n",
    "    \n",
    "    for x in x_v:\n",
    "    \n",
    "        fgl = ROOT.GaussLandau(sG,sL,mpv,A)\n",
    "    \n",
    "        lv_v.append( fgl.at(x) )\n",
    "    \n",
    "    return lv_v\n",
    "\n",
    "GL([2],1,1,1,2)"
   ]
  },
  {
   "cell_type": "code",
   "execution_count": null,
   "metadata": {
    "scrolled": true
   },
   "outputs": [],
   "source": [
    "#rr_range_v = np.linspace(10,150,40)\n",
    "\n",
    "BINS = np.linspace(1,6.0,100)\n",
    "xvals = np.linspace(1,6,100)\n",
    "\n",
    "mpv_v = []\n",
    "mpv_e = []\n",
    "rr_v = []\n",
    "rr_ranges = np.linspace(20,200,40)\n",
    "\n",
    "for n in xrange(len(rr_ranges)-1):\n",
    "    \n",
    "    rrmin = rr_ranges[n]\n",
    "    rrmax = rr_ranges[n+1]\n",
    "    \n",
    "    dftmp = data.query('rr > %i and rr < %i and pitch < 0.4'%(rrmin,rrmax))\n",
    "    \n",
    "    dedx_v = dftmp['dedx'].values\n",
    "    \n",
    "    vals,bine = np.histogram(dedx_v,bins=BINS)\n",
    "    binc = 0.5*(bine[1:]+bine[:-1])\n",
    "    guess = [1.6,0.1,0.1,8000.]\n",
    "    popt,popv = curve_fit(GL,binc,vals,p0=guess)#,sigma=np.sqrt(vals),absolute_sigma=True)\n",
    "    print popt\n",
    "    \n",
    "    pope = np.sqrt(np.diag(popv))\n",
    "    \n",
    "    mpv_v.append(popt[0])\n",
    "    mpv_e.append(pope[0])\n",
    "    rr_v.append(0.5*(rrmin+rrmax))\n",
    "    \n",
    "    fig = plt.figure(figsize=(6,6))\n",
    "    plt.xlabel('dE/dx [MeV/cm]',fontsize=20,fontweight='bold')\n",
    "    plt.errorbar(binc,vals,yerr=np.sqrt(vals),fmt='bo',lw=2)\n",
    "    plt.title('Residual Range [%i,%i]'%(rrmin,rrmax),fontsize=20,fontweight='bold')\n",
    "    plt.plot(xvals,GL(xvals,*popt),'r--',lw=2,label='MPV = %.02f MeV/cm'%(popt[0]))\n",
    "    plt.grid()\n",
    "    plt.legend(loc=1)\n",
    "    plt.show()\n"
   ]
  },
  {
   "cell_type": "code",
   "execution_count": null,
   "metadata": {},
   "outputs": [],
   "source": [
    "fig = plt.figure(figsize=(6,6))\n",
    "plt.errorbar(rr_v,mpv_v,yerr=mpv_e,fmt='bo',lw=2,markersize=8)\n",
    "plt.grid()\n",
    "plt.xlabel('RR [cm]')\n",
    "plt.ylabel('Fitted MPV [MeV/cm]')\n",
    "plt.show()"
   ]
  },
  {
   "cell_type": "code",
   "execution_count": null,
   "metadata": {},
   "outputs": [],
   "source": [
    "fout = open('/home/david/Desktop/dedx_vs_rr.txt','w+')\n",
    "for i,rr in enumerate(rr_v):\n",
    "    mpv  = mpv_v[i]\n",
    "    mpve = mpv_e[i]\n",
    "    fout.write('%.04f %.04f %.04f \\n'%(rr,mpv,mpve))\n",
    "fout.close()"
   ]
  },
  {
   "cell_type": "code",
   "execution_count": null,
   "metadata": {},
   "outputs": [],
   "source": [
    "fig = plt.figure(figsize=(6,6))\n",
    "plt.hist(data['pitch'],bins=np.linspace(0.29,1.0,50),histtype='step',lw=2)\n",
    "plt.grid()\n",
    "plt.xlabel('Pitch [cm]',fontsize=20,fontweight='bold')\n",
    "plt.ylabel('Entries',fontsize=20,fontweight='bold')\n",
    "plt.title('Pitch Distribution',fontsize=20,fontweight='bold')\n",
    "plt.axvline(0.4,lw=4,color='k',linestyle='--')\n",
    "plt.text(0.42,22000,r'$\\leftarrow$ cut',fontsize=26,fontweight='bold')\n",
    "plt.show()\n",
    "\n",
    "print np.median(data['pitch'].values)\n",
    "print np.average(data['pitch'].values)"
   ]
  },
  {
   "cell_type": "code",
   "execution_count": null,
   "metadata": {},
   "outputs": [],
   "source": [
    "#rr_range_v = np.linspace(10,150,40)\n",
    "\n",
    "BINS = np.linspace(1,6.0,100)\n",
    "xvals = np.linspace(1,6,100)\n",
    "\n",
    "pitch_ranges_v = [[0.3,0.33,0.36,0.4,0.45,0.5,0.55,0.6,0.65,0.7,0.75,0.8,0.9],\\\n",
    "                 [0.3,0.4,0.5,0.6,0.7,0.8,0.9]]\n",
    "\n",
    "#pitch_ranges_v = [[0.3,0.35,0.4,0.5,0.6,0.7,0.8,0.9],\\\n",
    "#                [0.3,0.35,0.4,0.5,0.6,0.7,0.8,0.9],\\\n",
    "#                [0.4,0.5,0.6,0.7,0.9]]\n",
    "\n",
    "px_ranges = [0,0.3,1.0]#0.2,0.4,0.8]\n",
    "\n",
    "fout = open('/home/david/Desktop/dedx_vs_pitch.txt','w+')\n",
    "\n",
    "for m in xrange(len(px_ranges)-1):\n",
    "    \n",
    "    pxmin = px_ranges[m]\n",
    "    pxmax = px_ranges[m+1]\n",
    "    \n",
    "    dfpx = data.query('rr > 100 and rr < 150. and ((px > %f and px < %f) or (px > %f and px < %f))'%\\\n",
    "    (pxmin,pxmax,-pxmax,-pxmin))\n",
    "    \n",
    "    mpv_v = []\n",
    "    mpv_e = []\n",
    "    pitchh_v = []\n",
    "    pitchl_v = []\n",
    "    pitch_v = []\n",
    "\n",
    "    for n in xrange(len(pitch_ranges_v[m])-1):\n",
    "    \n",
    "        pmin = pitch_ranges_v[m][n]\n",
    "        pmax = pitch_ranges_v[m][n+1]\n",
    "    \n",
    "        pitchh_v.append(pmax)\n",
    "        pitchl_v.append(pmin)\n",
    "        pitch_v.append(0.5*(pmin+pmax))\n",
    "    \n",
    "        dftmp = dfpx.query('rr > 100 and rr < 150 and pitch > %f and pitch < %f'%(pmin,pmax))\n",
    "    \n",
    "        dedx_v = dftmp['dedx'].values\n",
    "    \n",
    "        vals,bine = np.histogram(dedx_v,bins=BINS)\n",
    "        binc = 0.5*(bine[1:]+bine[:-1])\n",
    "        guess = [1.6,0.1,0.1,10000.]\n",
    "        popt,popv = curve_fit(GL,binc,vals,p0=guess)#,sigma=np.sqrt(vals),absolute_sigma=True)\n",
    "        print popt\n",
    "    \n",
    "        pope = np.sqrt(np.diag(popv))\n",
    "    \n",
    "        mpv_v.append(popt[0])\n",
    "        mpv_e.append(pope[0])\n",
    "    \n",
    "        fig = plt.figure(figsize=(10,6))\n",
    "        plt.errorbar(binc,vals,yerr=np.sqrt(vals),fmt='bo',lw=2)\n",
    "        plt.title('Pitch range [%.02f,%.02f]'%(pmin,pmax))\n",
    "        plt.plot(xvals,GL(xvals,*popt),'r--',lw=2)\n",
    "        plt.grid()\n",
    "        plt.show()\n",
    "        \n",
    "        \n",
    "        fout.write('%.04f %.04f %.04f %.04f %.04f %.04f %.04f \\n'%\\\n",
    "                   (pxmin,pxmax,0.5*(pmin+pmax),pmin,pmax,popt[0],pope[0]))\n",
    "        \n",
    "    fig = plt.figure(figsize=(6,6))\n",
    "    plt.errorbar(pitch_v,mpv_v,yerr=mpv_e,fmt='bo',lw=2,markersize=8)\n",
    "    plt.grid()\n",
    "    plt.xlabel('Pitch [cm]')\n",
    "    plt.ylabel('Fitted MPV [MeV/cm]')\n",
    "    plt.title('Px in range [%.02f,%.02f]'%(pxmin,pxmax))\n",
    "    plt.show()\n",
    "\n",
    "fout.close()\n"
   ]
  },
  {
   "cell_type": "code",
   "execution_count": null,
   "metadata": {},
   "outputs": [],
   "source": []
  }
 ],
 "metadata": {
  "kernelspec": {
   "display_name": "Python 2",
   "language": "python",
   "name": "python2"
  },
  "language_info": {
   "codemirror_mode": {
    "name": "ipython",
    "version": 2
   },
   "file_extension": ".py",
   "mimetype": "text/x-python",
   "name": "python",
   "nbconvert_exporter": "python",
   "pygments_lexer": "ipython2",
   "version": "2.7.15rc1"
  }
 },
 "nbformat": 4,
 "nbformat_minor": 1
}
